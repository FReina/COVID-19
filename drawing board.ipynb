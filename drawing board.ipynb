{
 "cells": [
  {
   "cell_type": "code",
   "execution_count": 2,
   "metadata": {},
   "outputs": [],
   "source": [
    "import frcovid19 as fr\n",
    "\n",
    "b = fr.data_loader_nazionali('./dati-andamento-nazionale/dpc-covid19-ita-andamento-nazionale.csv')\n",
    "\n",
    "dati = fr.DatiCOVID(b)\n",
    "\n"
   ]
  },
  {
   "cell_type": "code",
   "execution_count": 21,
   "metadata": {},
   "outputs": [
    {
     "output_type": "error",
     "ename": "TypeError",
     "evalue": "'NoneType' object is not callable",
     "traceback": [
      "\u001b[1;31m---------------------------------------------------------------------------\u001b[0m",
      "\u001b[1;31mTypeError\u001b[0m                                 Traceback (most recent call last)",
      "\u001b[1;32m<ipython-input-21-731d8979e662>\u001b[0m in \u001b[0;36m<module>\u001b[1;34m\u001b[0m\n\u001b[0;32m      7\u001b[0m \u001b[1;33m\u001b[0m\u001b[0m\n\u001b[0;32m      8\u001b[0m \u001b[0mf\u001b[0m \u001b[1;33m=\u001b[0m \u001b[0mplt\u001b[0m\u001b[1;33m.\u001b[0m\u001b[0mfigure\u001b[0m\u001b[1;33m(\u001b[0m\u001b[1;33m)\u001b[0m\u001b[1;33m\u001b[0m\u001b[1;33m\u001b[0m\u001b[0m\n\u001b[1;32m----> 9\u001b[1;33m \u001b[0mf\u001b[0m\u001b[1;33m.\u001b[0m\u001b[0mwidth\u001b[0m\u001b[1;33m(\u001b[0m\u001b[1;36m16\u001b[0m\u001b[1;33m)\u001b[0m\u001b[1;33m\u001b[0m\u001b[1;33m\u001b[0m\u001b[0m\n\u001b[0m\u001b[0;32m     10\u001b[0m \u001b[0mf\u001b[0m\u001b[1;33m.\u001b[0m\u001b[0mline\u001b[0m\u001b[1;33m(\u001b[0m\u001b[0mrange\u001b[0m\u001b[1;33m(\u001b[0m\u001b[1;36m0\u001b[0m\u001b[1;33m,\u001b[0m\u001b[0mlen\u001b[0m\u001b[1;33m(\u001b[0m\u001b[0mdati\u001b[0m\u001b[1;33m.\u001b[0m\u001b[0mdata\u001b[0m\u001b[1;33m)\u001b[0m\u001b[1;33m)\u001b[0m\u001b[1;33m,\u001b[0m \u001b[0mdati\u001b[0m\u001b[1;33m.\u001b[0m\u001b[0mdeceduti\u001b[0m\u001b[1;33m)\u001b[0m\u001b[1;33m\u001b[0m\u001b[1;33m\u001b[0m\u001b[0m\n\u001b[0;32m     11\u001b[0m \u001b[0mf\u001b[0m\u001b[1;33m.\u001b[0m\u001b[0mxaxis\u001b[0m\u001b[1;33m.\u001b[0m\u001b[0mmajor_label_overrides\u001b[0m \u001b[1;33m=\u001b[0m \u001b[0mcalendario\u001b[0m\u001b[1;33m\u001b[0m\u001b[1;33m\u001b[0m\u001b[0m\n",
      "\u001b[1;31mTypeError\u001b[0m: 'NoneType' object is not callable"
     ]
    }
   ],
   "source": [
    "from bokeh import plotting as plt\n",
    "import bokeh.io as io \n",
    "\n",
    "calendario = {}\n",
    "for i in range(0,len(dati.data)):\n",
    "    calendario[i] = dati.data[i]\n",
    "\n",
    "f = plt.figure()\n",
    "f.line(range(0,len(dati.data)), dati.deceduti)\n",
    "f.xaxis.major_label_overrides = calendario\n",
    "io.show(f,new='refresh')"
   ]
  },
  {
   "cell_type": "code",
   "execution_count": 16,
   "metadata": {},
   "outputs": [],
   "source": [
    "calendario = {}\n",
    "for i in range(0,len(dati.data)):\n",
    "    calendario[i] = dati.data[i]"
   ]
  },
  {
   "cell_type": "code",
   "execution_count": null,
   "metadata": {},
   "outputs": [],
   "source": []
  },
  {
   "cell_type": "code",
   "execution_count": null,
   "metadata": {},
   "outputs": [],
   "source": []
  },
  {
   "cell_type": "code",
   "execution_count": null,
   "metadata": {},
   "outputs": [],
   "source": [
    "import pandas as pd \n",
    "\n",
    "filename = './dati-andamento-nazionale/dpc-covid19-ita-andamento-nazionale.csv'\n",
    "\n",
    "with open(filename) as dpc_data:\n",
    "    a = pd.read_csv(dpc_data)"
   ]
  },
  {
   "cell_type": "code",
   "execution_count": null,
   "metadata": {},
   "outputs": [],
   "source": [
    "settimanali = vediamo.dati_settimanali()"
   ]
  },
  {
   "cell_type": "code",
   "execution_count": null,
   "metadata": {},
   "outputs": [],
   "source": [
    "settimanali[1]"
   ]
  },
  {
   "cell_type": "code",
   "execution_count": null,
   "metadata": {},
   "outputs": [],
   "source": [
    "import matplotlib.pyplot as plt\n",
    "plt.figure(figsize = (16,9))\n",
    "for i in range(1,7):\n",
    "    plt.scatter([int(y) for (x,y) in zip(settimanali[0],settimanali[1]) if x==('Settimana ' +str(i))],[int(y) for (x,y) in zip(settimanali[0],settimanali[2]) if x=='Settimana ' + str(i)])\n",
    "plt.show()\n",
    "\n",
    "\n",
    "#masso = [int(y) for (x,y) in zip(settimanali[0],settimanali[1]) if x=='Settimana 1']\n",
    "#masso2 = [int(y) for (x,y) in zip(settimanali[0],settimanali[2]) if x=='Settimana 1']\n",
    "\n",
    "plt.scatter(masso,masso2)\n",
    "for i in range(1,7):\n",
    "    plt.scatter([int(y) for (x,y) in zip(settimanali[0],settimanali[1]) if x==('Settimana ' +str(i))],[int(y) for (x,y) in zip(settimanali[0],settimanali[2]) if x=='Settimana ' + str(i)])"
   ]
  },
  {
   "cell_type": "code",
   "execution_count": null,
   "metadata": {},
   "outputs": [],
   "source": [
    "print(settimanali)"
   ]
  },
  {
   "cell_type": "code",
   "execution_count": null,
   "metadata": {},
   "outputs": [],
   "source": [
    "a=(1,2,3)\n",
    "b=(4,5,6)"
   ]
  },
  {
   "cell_type": "code",
   "execution_count": null,
   "metadata": {},
   "outputs": [],
   "source": [
    "print(tuple(zip(a,b)))"
   ]
  },
  {
   "cell_type": "code",
   "execution_count": null,
   "metadata": {},
   "outputs": [],
   "source": [
    "import matplotlib.pyplot as plt\n",
    "\n",
    "plt.scatter(vediamo.data,vediamo.tamponi_giornalieri)"
   ]
  },
  {
   "cell_type": "code",
   "execution_count": null,
   "metadata": {},
   "outputs": [],
   "source": []
  },
  {
   "cell_type": "code",
   "execution_count": null,
   "metadata": {},
   "outputs": [],
   "source": []
  },
  {
   "cell_type": "code",
   "execution_count": null,
   "metadata": {},
   "outputs": [],
   "source": []
  },
  {
   "cell_type": "code",
   "execution_count": null,
   "metadata": {},
   "outputs": [],
   "source": [
    "a,b = fr.data_loader_generic('./dati-andamento-nazionale/dpc-covid19-ita-andamento-nazionale.csv')"
   ]
  },
  {
   "cell_type": "code",
   "execution_count": null,
   "metadata": {},
   "outputs": [],
   "source": [
    "key = 'data'\n",
    "giorno = b[key][1][2]\n",
    "\n",
    "print(giorno)"
   ]
  },
  {
   "cell_type": "code",
   "execution_count": null,
   "metadata": {},
   "outputs": [],
   "source": [
    "fr.region_names()"
   ]
  },
  {
   "cell_type": "code",
   "execution_count": null,
   "metadata": {},
   "outputs": [],
   "source": [
    "Ven = fr.data_loader_region('.\\dati-regioni\\dpc-covid19-ita-regioni.csv','Veneto')\n",
    "Lom = fr.data_loader_region('.\\dati-regioni\\dpc-covid19-ita-regioni.csv','Lombardia')\n",
    "Piem = fr.data_loader_region('.\\dati-regioni\\dpc-covid19-ita-regioni.csv','Piemonte')"
   ]
  },
  {
   "cell_type": "code",
   "execution_count": null,
   "metadata": {},
   "outputs": [],
   "source": [
    "veneto = DatiCOVID(Ven)"
   ]
  },
  {
   "cell_type": "code",
   "execution_count": null,
   "metadata": {},
   "outputs": [],
   "source": [
    "Lom.keys()"
   ]
  },
  {
   "cell_type": "code",
   "execution_count": null,
   "metadata": {},
   "outputs": [],
   "source": [
    "import matplotlib.pyplot as plt\n",
    "\n",
    "plt.figure(figsize = (10,5))\n",
    "plt.plot(Ven['data'],Ven['deceduti'],c = 'red', lw= 3,label = 'Veneto')\n",
    "plt.xticks(Lom['data'][::3],rotation = 40)\n",
    "plt.title('Deceduti')\n",
    "plt.legend()\n",
    "plt.show()\n",
    "plt.figure(figsize = (10,5))\n",
    "plt.plot(Lom['data'],Lom['deceduti'],c = 'blue', lw= 3,label = 'Lombardia')\n",
    "#plt.plot(Piem['data'],Piem['totale_casi'],c = 'green', lw= 3,label = 'Piemonte')\n",
    "plt.xticks(Lom['data'][::3],rotation = 40)\n",
    "plt.title('Deceduti')\n",
    "plt.legend()\n",
    "plt.show()"
   ]
  },
  {
   "cell_type": "code",
   "execution_count": null,
   "metadata": {},
   "outputs": [],
   "source": []
  }
 ],
 "metadata": {
  "language_info": {
   "name": "python",
   "codemirror_mode": {
    "name": "ipython",
    "version": 3
   },
   "version": "3.7.4-final"
  },
  "orig_nbformat": 2,
  "file_extension": ".py",
  "mimetype": "text/x-python",
  "name": "python",
  "npconvert_exporter": "python",
  "pygments_lexer": "ipython3",
  "version": 3,
  "kernelspec": {
   "name": "python3",
   "display_name": "Python 3"
  }
 },
 "nbformat": 4,
 "nbformat_minor": 2
}